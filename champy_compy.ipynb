{
  "nbformat": 4,
  "nbformat_minor": 0,
  "metadata": {
    "colab": {
      "name": "champy_compy.ipynb",
      "provenance": [],
      "collapsed_sections": [],
      "authorship_tag": "ABX9TyMNpz8BdANF/DlMTgm/lMZZ",
      "include_colab_link": true
    },
    "kernelspec": {
      "name": "python3",
      "display_name": "Python 3"
    },
    "language_info": {
      "name": "python"
    }
  },
  "cells": [
    {
      "cell_type": "markdown",
      "metadata": {
        "id": "view-in-github",
        "colab_type": "text"
      },
      "source": [
        "<a href=\"https://colab.research.google.com/github/shinchacoffee/tft_champion_class_practice/blob/main/champy_compy.ipynb\" target=\"_parent\"><img src=\"https://colab.research.google.com/assets/colab-badge.svg\" alt=\"Open In Colab\"/></a>"
      ]
    },
    {
      "cell_type": "code",
      "metadata": {
        "id": "bm_-PezjEhIx",
        "colab": {
          "base_uri": "https://localhost:8080/"
        },
        "outputId": "afced3e6-8188-48a4-c84f-7a5a68a5df98"
      },
      "source": [
        "import random as rnd\n",
        "\n",
        "class Champion:\n",
        "  def __init__(self, name=None, def_power=None, ata_power=None):\n",
        "    self.name, self.defp, self.atap = self.from_input()\n",
        "  def from_input(self):\n",
        "    dane=['defense power: ',' attack power: ']\n",
        "    dane_def=[0,0]\n",
        "    pusta=[input('Name: ')]\n",
        "    for i in range(len(dane)):\n",
        "      try:\n",
        "        pusta.append(int(input(dane[i])))\n",
        "      except:\n",
        "        pusta.append(dane_def[i])\n",
        "    return tuple(pusta)\n",
        "  def __str__(self):\n",
        "    return f'{self.name} defp: {self.defp} atap: {self.atap}'\n",
        "  def __le__(self,other): #le lessequal <= lt < gt > ge >= eq ==\n",
        "    return self.defp < other.atap\n",
        "\n",
        "class Arena:\n",
        "  def __init__(self, champions):\n",
        "    self.champions=champions\n",
        "  def brawl(self):\n",
        "    while len(self.champions) > 1:\n",
        "      para=rnd.sample(self.champions,2)\n",
        "      if para[0] <= para[1]:\n",
        "        self.champions.remove(para[0])\n",
        "      else:\n",
        "        self.champions.remove(para[1])\n",
        "  def __str__(self):\n",
        "    return str([x.name for x in self.champions])\n",
        "\n",
        "SET6=[Champion() for i in range(2)]"
      ],
      "execution_count": null,
      "outputs": [
        {
          "name": "stdout",
          "output_type": "stream",
          "text": [
            "Name: qwe\n",
            "defense power: 2\n",
            " attack power: 2\n",
            "Name: asd\n",
            "defense power: 1\n",
            " attack power: 1\n"
          ]
        }
      ]
    },
    {
      "cell_type": "code",
      "metadata": {
        "colab": {
          "base_uri": "https://localhost:8080/",
          "height": 416
        },
        "id": "lh7LquuZGaNk",
        "outputId": "c81aa383-2e32-471d-9746-f4e545dc0903"
      },
      "source": [
        "a=[print(x) for x in SET6]\n",
        "arena=Arena(SET6)\n",
        "print(arena)\n",
        "arena.brawl()\n",
        "print(arena)"
      ],
      "execution_count": null,
      "outputs": [
        {
          "output_type": "stream",
          "name": "stdout",
          "text": [
            "qwe defp: 2 atap: 2\n",
            "asd defp: 1 atap: 1\n",
            "['qwe', 'asd']\n"
          ]
        },
        {
          "output_type": "error",
          "ename": "TypeError",
          "evalue": "ignored",
          "traceback": [
            "\u001b[0;31m---------------------------------------------------------------------------\u001b[0m",
            "\u001b[0;31mTypeError\u001b[0m                                 Traceback (most recent call last)",
            "\u001b[0;32m<ipython-input-80-e2933f451271>\u001b[0m in \u001b[0;36m<module>\u001b[0;34m()\u001b[0m\n\u001b[1;32m      2\u001b[0m \u001b[0marena\u001b[0m\u001b[0;34m=\u001b[0m\u001b[0mArena\u001b[0m\u001b[0;34m(\u001b[0m\u001b[0mSET6\u001b[0m\u001b[0;34m)\u001b[0m\u001b[0;34m\u001b[0m\u001b[0;34m\u001b[0m\u001b[0m\n\u001b[1;32m      3\u001b[0m \u001b[0mprint\u001b[0m\u001b[0;34m(\u001b[0m\u001b[0marena\u001b[0m\u001b[0;34m)\u001b[0m\u001b[0;34m\u001b[0m\u001b[0;34m\u001b[0m\u001b[0m\n\u001b[0;32m----> 4\u001b[0;31m \u001b[0marena\u001b[0m\u001b[0;34m.\u001b[0m\u001b[0mbrawl\u001b[0m\u001b[0;34m(\u001b[0m\u001b[0;34m)\u001b[0m\u001b[0;34m\u001b[0m\u001b[0;34m\u001b[0m\u001b[0m\n\u001b[0m\u001b[1;32m      5\u001b[0m \u001b[0mprint\u001b[0m\u001b[0;34m(\u001b[0m\u001b[0marena\u001b[0m\u001b[0;34m)\u001b[0m\u001b[0;34m\u001b[0m\u001b[0;34m\u001b[0m\u001b[0m\n",
            "\u001b[0;32m<ipython-input-79-9c34bb18dcad>\u001b[0m in \u001b[0;36mbrawl\u001b[0;34m(self)\u001b[0m\n\u001b[1;32m     25\u001b[0m     \u001b[0;32mwhile\u001b[0m \u001b[0mlen\u001b[0m\u001b[0;34m(\u001b[0m\u001b[0mself\u001b[0m\u001b[0;34m.\u001b[0m\u001b[0mchampions\u001b[0m\u001b[0;34m)\u001b[0m \u001b[0;34m>\u001b[0m \u001b[0;36m1\u001b[0m\u001b[0;34m:\u001b[0m\u001b[0;34m\u001b[0m\u001b[0;34m\u001b[0m\u001b[0m\n\u001b[1;32m     26\u001b[0m       \u001b[0mpara\u001b[0m\u001b[0;34m=\u001b[0m\u001b[0mrnd\u001b[0m\u001b[0;34m.\u001b[0m\u001b[0msample\u001b[0m\u001b[0;34m(\u001b[0m\u001b[0mself\u001b[0m\u001b[0;34m.\u001b[0m\u001b[0mchampions\u001b[0m\u001b[0;34m,\u001b[0m\u001b[0;36m2\u001b[0m\u001b[0;34m)\u001b[0m\u001b[0;34m\u001b[0m\u001b[0;34m\u001b[0m\u001b[0m\n\u001b[0;32m---> 27\u001b[0;31m       \u001b[0;32mif\u001b[0m \u001b[0mpara\u001b[0m\u001b[0;34m[\u001b[0m\u001b[0;36m0\u001b[0m\u001b[0;34m]\u001b[0m \u001b[0;34m<\u001b[0m \u001b[0mpara\u001b[0m\u001b[0;34m[\u001b[0m\u001b[0;36m1\u001b[0m\u001b[0;34m]\u001b[0m\u001b[0;34m:\u001b[0m\u001b[0;34m\u001b[0m\u001b[0;34m\u001b[0m\u001b[0m\n\u001b[0m\u001b[1;32m     28\u001b[0m         \u001b[0mself\u001b[0m\u001b[0;34m.\u001b[0m\u001b[0mchampions\u001b[0m\u001b[0;34m.\u001b[0m\u001b[0mremove\u001b[0m\u001b[0;34m(\u001b[0m\u001b[0mpara\u001b[0m\u001b[0;34m[\u001b[0m\u001b[0;36m0\u001b[0m\u001b[0;34m]\u001b[0m\u001b[0;34m)\u001b[0m\u001b[0;34m\u001b[0m\u001b[0;34m\u001b[0m\u001b[0m\n\u001b[1;32m     29\u001b[0m       \u001b[0;32melse\u001b[0m\u001b[0;34m:\u001b[0m\u001b[0;34m\u001b[0m\u001b[0;34m\u001b[0m\u001b[0m\n",
            "\u001b[0;31mTypeError\u001b[0m: '<' not supported between instances of 'Champion' and 'Champion'"
          ]
        }
      ]
    },
    {
      "cell_type": "code",
      "metadata": {
        "colab": {
          "base_uri": "https://localhost:8080/"
        },
        "id": "Jp9jdvsXRMb3",
        "outputId": "b2c0c20c-867d-48b8-b6f3-df7616c811ea"
      },
      "source": [
        "print(arena)"
      ],
      "execution_count": null,
      "outputs": [
        {
          "output_type": "stream",
          "name": "stdout",
          "text": [
            "['asd']\n"
          ]
        }
      ]
    },
    {
      "cell_type": "code",
      "metadata": {
        "colab": {
          "base_uri": "https://localhost:8080/"
        },
        "id": "XlCrYaU2HBHc",
        "outputId": "68efbef7-f70f-47aa-c125-db4e5fd81a15"
      },
      "source": [
        "\n",
        "SET6.sort(key=lambda x:x.defp)\n",
        "for i in SET6:\n",
        "  print(i.name)"
      ],
      "execution_count": null,
      "outputs": [
        {
          "output_type": "stream",
          "name": "stdout",
          "text": [
            "qwe\n",
            "asd\n"
          ]
        }
      ]
    },
    {
      "cell_type": "code",
      "metadata": {
        "id": "43NOfQK4HFIj"
      },
      "source": [
        ""
      ],
      "execution_count": null,
      "outputs": []
    }
  ]
}